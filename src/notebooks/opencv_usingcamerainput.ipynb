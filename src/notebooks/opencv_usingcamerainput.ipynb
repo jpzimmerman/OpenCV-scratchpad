{
 "cells": [
  {
   "cell_type": "code",
   "execution_count": 1,
   "id": "694fb4e1-cef9-44de-920c-1bff9cfb9b57",
   "metadata": {},
   "outputs": [
    {
     "name": "stdout",
     "output_type": "stream",
     "text": [
      "Requirement already satisfied: opencv_python in c:\\users\\sithp\\appdata\\roaming\\python\\python312\\site-packages (4.11.0.86)\n",
      "Requirement already satisfied: numpy>=1.21.2 in d:\\development\\python312\\lib\\site-packages (from opencv_python) (2.2.6)\n",
      "Note: you may need to restart the kernel to use updated packages.\n"
     ]
    }
   ],
   "source": [
    "pip install opencv_python"
   ]
  },
  {
   "cell_type": "code",
   "execution_count": 3,
   "id": "a9384aba-191d-4c71-a0c5-f6f39c502a5e",
   "metadata": {},
   "outputs": [],
   "source": [
    "import os\n",
    "import sys\n",
    "import cv2\n",
    "import numpy as np\n",
    "import matplotlib.pyplot as plt\n",
    "from IPython.display import Image"
   ]
  },
  {
   "cell_type": "code",
   "execution_count": null,
   "id": "632ba741-a72e-4ccc-904a-38fe5767a6cd",
   "metadata": {},
   "outputs": [],
   "source": [
    "s = 0\n",
    "if len(sys.argv) > 1"
   ]
  }
 ],
 "metadata": {
  "kernelspec": {
   "display_name": "Python 3 (ipykernel)",
   "language": "python",
   "name": "python3"
  },
  "language_info": {
   "codemirror_mode": {
    "name": "ipython",
    "version": 3
   },
   "file_extension": ".py",
   "mimetype": "text/x-python",
   "name": "python",
   "nbconvert_exporter": "python",
   "pygments_lexer": "ipython3",
   "version": "3.12.3"
  }
 },
 "nbformat": 4,
 "nbformat_minor": 5
}
